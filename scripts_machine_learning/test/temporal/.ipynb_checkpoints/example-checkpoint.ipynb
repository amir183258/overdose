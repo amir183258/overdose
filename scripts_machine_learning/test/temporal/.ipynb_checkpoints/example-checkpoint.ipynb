{
 "cells": [
  {
   "cell_type": "markdown",
   "id": "2d479b4a",
   "metadata": {
    "ExecuteTime": {
     "end_time": "2022-09-19T07:47:51.787237Z",
     "start_time": "2022-09-19T07:47:51.778516Z"
    }
   },
   "source": [
    "Read data"
   ]
  },
  {
   "cell_type": "code",
   "execution_count": 1,
   "id": "4b06eeb4",
   "metadata": {
    "ExecuteTime": {
     "end_time": "2022-09-19T08:09:42.796617Z",
     "start_time": "2022-09-19T08:09:42.434654Z"
    }
   },
   "outputs": [],
   "source": [
    "import pandas as pd"
   ]
  },
  {
   "cell_type": "code",
   "execution_count": 2,
   "id": "7d65c606",
   "metadata": {
    "ExecuteTime": {
     "end_time": "2022-09-19T08:09:43.559791Z",
     "start_time": "2022-09-19T08:09:43.539778Z"
    }
   },
   "outputs": [],
   "source": [
    "data = pd.read_csv(r'\\data\\example.csv')"
   ]
  },
  {
   "cell_type": "code",
   "execution_count": 3,
   "id": "796fe3e5",
   "metadata": {
    "ExecuteTime": {
     "end_time": "2022-09-19T08:09:44.798946Z",
     "start_time": "2022-09-19T08:09:44.787275Z"
    }
   },
   "outputs": [],
   "source": [
    "coords = data[['longitude', 'latitude']]\n",
    "t = data[['t']]\n",
    "X = data[['x1', 'x2']]\n",
    "y = data[['y']]"
   ]
  },
  {
   "cell_type": "markdown",
   "id": "905c6002",
   "metadata": {},
   "source": [
    "GWR model"
   ]
  },
  {
   "cell_type": "code",
   "execution_count": 4,
   "id": "532ffaf3",
   "metadata": {
    "ExecuteTime": {
     "end_time": "2022-09-19T08:09:50.207629Z",
     "start_time": "2022-09-19T08:09:50.131373Z"
    }
   },
   "outputs": [],
   "source": [
    "from mgtwr.sel import SearchGWRParameter\n",
    "from mgtwr.model import GWR"
   ]
  },
  {
   "cell_type": "code",
   "execution_count": 5,
   "id": "e0aa3e40",
   "metadata": {
    "ExecuteTime": {
     "end_time": "2022-09-19T08:09:54.705874Z",
     "start_time": "2022-09-19T08:09:53.355340Z"
    }
   },
   "outputs": [
    {
     "name": "stdout",
     "output_type": "stream",
     "text": [
      "bw: 15.0 , score: 18778.49\n",
      "bw: 10.0 , score: 18764.75\n",
      "bw: 6.0 , score: 18699.21\n",
      "bw: 4.0 , score: 18506.22\n",
      "bw: 2.0 , score: 17786.86\n",
      "bw: 2.0 , score: 17786.86\n",
      "time cost: 0:00:1.934\n"
     ]
    }
   ],
   "source": [
    "sel = SearchGWRParameter(coords, X, y, kernel='gaussian', fixed=True)\n",
    "bw = sel.search(bw_max=40, verbose=True, time_cost=True)"
   ]
  },
  {
   "cell_type": "code",
   "execution_count": 6,
   "id": "cb3be837",
   "metadata": {
    "ExecuteTime": {
     "end_time": "2022-09-19T08:10:32.986328Z",
     "start_time": "2022-09-19T08:10:32.709532Z"
    }
   },
   "outputs": [
    {
     "name": "stdout",
     "output_type": "stream",
     "text": [
      "0.5935790327518\n"
     ]
    }
   ],
   "source": [
    "gwr = GWR(coords, X, y, bw, kernel='gaussian', fixed=True).fit()\n",
    "print(gwr.R2)"
   ]
  },
  {
   "cell_type": "markdown",
   "id": "ac6e9d39",
   "metadata": {},
   "source": [
    "MGWR model"
   ]
  },
  {
   "cell_type": "code",
   "execution_count": 7,
   "id": "20f580b3",
   "metadata": {},
   "outputs": [],
   "source": [
    "from mgtwr.sel import SearchMGWRParameter\n",
    "from mgtwr.model import MGWR"
   ]
  },
  {
   "cell_type": "code",
   "execution_count": 8,
   "id": "08bf65d5",
   "metadata": {},
   "outputs": [
    {
     "name": "stdout",
     "output_type": "stream",
     "text": [
      "Current iteration: 1 ,SOC: 0.0033171\n",
      "Bandwidths: 986.8, 965.5, 0.7\n",
      "Current iteration: 2 ,SOC: 5.64e-05\n",
      "Bandwidths: 986.8, 986.8, 0.7\n",
      "Current iteration: 3 ,SOC: 4.27e-05\n",
      "Bandwidths: 986.8, 986.8, 0.7\n",
      "Current iteration: 4 ,SOC: 3.22e-05\n",
      "Bandwidths: 986.8, 986.8, 0.7\n",
      "Current iteration: 5 ,SOC: 2.43e-05\n",
      "Bandwidths: 986.8, 986.8, 0.7\n",
      "time cost: 0:00:35.14\n"
     ]
    }
   ],
   "source": [
    "sel_multi = SearchMGWRParameter(coords, X, y, kernel='gaussian', fixed=True)\n",
    "bws = sel_multi.search(multi_bw_max=[1000], verbose=True, time_cost=True, tol_multi=3.0e-5)"
   ]
  },
  {
   "cell_type": "code",
   "execution_count": 9,
   "id": "e7dbf9fb",
   "metadata": {},
   "outputs": [
    {
     "name": "stdout",
     "output_type": "stream",
     "text": [
      "0.7045779853867871\n"
     ]
    }
   ],
   "source": [
    "mgwr = MGWR(coords, X, y, sel_multi, kernel='gaussian', fixed=True).fit()\n",
    "print(mgwr.R2)"
   ]
  },
  {
   "cell_type": "markdown",
   "id": "68c915f1",
   "metadata": {},
   "source": [
    "If you already know bws, you can also do the following"
   ]
  },
  {
   "cell_type": "code",
   "execution_count": 10,
   "id": "56555609",
   "metadata": {},
   "outputs": [
    {
     "name": "stdout",
     "output_type": "stream",
     "text": [
      "0.7045779853867871\n"
     ]
    }
   ],
   "source": [
    "class sel_multi:\n",
    "    def __init__(self, bws):\n",
    "        self.bws = bws\n",
    "\n",
    "        \n",
    "selector = sel_multi(bws)\n",
    "mgwr = MGWR(coords, X, y, selector, kernel='gaussian', fixed=True).fit()\n",
    "print(mgwr.R2)"
   ]
  },
  {
   "cell_type": "markdown",
   "id": "6aea4108",
   "metadata": {
    "ExecuteTime": {
     "end_time": "2022-09-19T08:11:21.337967Z",
     "start_time": "2022-09-19T08:11:21.326547Z"
    }
   },
   "source": [
    "GTWR model"
   ]
  },
  {
   "cell_type": "code",
   "execution_count": 11,
   "id": "462da66a",
   "metadata": {
    "ExecuteTime": {
     "end_time": "2022-09-19T08:11:53.026336Z",
     "start_time": "2022-09-19T08:11:53.021405Z"
    }
   },
   "outputs": [],
   "source": [
    "from mgtwr.sel import SearchGTWRParameter\n",
    "from mgtwr.model import GTWR"
   ]
  },
  {
   "cell_type": "code",
   "execution_count": 12,
   "id": "4f9cc821",
   "metadata": {
    "ExecuteTime": {
     "end_time": "2022-09-19T08:14:07.489058Z",
     "start_time": "2022-09-19T08:13:28.866324Z"
    }
   },
   "outputs": [
    {
     "name": "stdout",
     "output_type": "stream",
     "text": [
      "bw:  5.9 , tau:  19.9 , score:  18095.04059255282\n",
      "bw:  3.7 , tau:  19.9 , score:  17608.38596885707\n",
      "bw:  2.3 , tau:  10.1 , score:  16461.58709937909\n",
      "bw:  1.4 , tau:  3.8 , score:  14817.811620052908\n",
      "bw:  0.9 , tau:  1.4 , score:  13780.792562049754\n",
      "bw:  0.9 , tau:  1.4 , score:  13780.792562049754\n",
      "bw:  0.9 , tau:  1.4 , score:  13780.792562049754\n",
      "bw:  0.9 , tau:  1.4 , score:  13780.792562049754\n",
      "bw:  0.9 , tau:  1.4 , score:  13780.792562049754\n",
      "time cost: 0:00:40.776\n"
     ]
    }
   ],
   "source": [
    "sel = SearchGTWRParameter(coords, t, X, y, kernel='gaussian', fixed=True)\n",
    "bw, tau = sel.search(tau_max=20, verbose=True, time_cost=True)"
   ]
  },
  {
   "cell_type": "code",
   "execution_count": 13,
   "id": "4bbf93f8",
   "metadata": {
    "ExecuteTime": {
     "end_time": "2022-09-19T08:14:17.776587Z",
     "start_time": "2022-09-19T08:14:17.313360Z"
    }
   },
   "outputs": [
    {
     "name": "stdout",
     "output_type": "stream",
     "text": [
      "0.9829884630503501\n"
     ]
    }
   ],
   "source": [
    "gtwr = GTWR(coords, t, X, y, bw, tau, kernel='gaussian', fixed=True).fit()\n",
    "print(gtwr.R2)"
   ]
  },
  {
   "cell_type": "markdown",
   "id": "2ad9399f",
   "metadata": {},
   "source": [
    "MGTWR model"
   ]
  },
  {
   "cell_type": "code",
   "execution_count": 14,
   "id": "7d015f1a",
   "metadata": {
    "ExecuteTime": {
     "end_time": "2022-09-19T08:15:02.313810Z",
     "start_time": "2022-09-19T08:15:02.303789Z"
    }
   },
   "outputs": [],
   "source": [
    "from mgtwr.sel import SearchMGTWRParameter\n",
    "from mgtwr.model import MGTWR"
   ]
  },
  {
   "cell_type": "code",
   "execution_count": 15,
   "id": "94d738b5",
   "metadata": {
    "ExecuteTime": {
     "end_time": "2022-09-19T08:23:08.330524Z",
     "start_time": "2022-09-19T08:15:42.813827Z"
    }
   },
   "outputs": [
    {
     "name": "stdout",
     "output_type": "stream",
     "text": [
      "Current iteration: 1 ,SOC: 0.0025274\n",
      "Bandwidths: 0.7, 0.7, 0.5\n",
      "taus: 1.3,0.8,0.8\n",
      "Current iteration: 2 ,SOC: 0.0011033\n",
      "Bandwidths: 0.9, 0.7, 0.5\n",
      "taus: 3.0,0.4,0.8\n",
      "Current iteration: 3 ,SOC: 0.0005365\n",
      "Bandwidths: 0.9, 0.7, 0.5\n",
      "taus: 3.4,0.2,0.8\n",
      "Current iteration: 4 ,SOC: 0.0003\n",
      "Bandwidths: 0.9, 0.7, 0.5\n",
      "taus: 3.4,0.2,0.8\n",
      "Current iteration: 5 ,SOC: 0.0001986\n",
      "Bandwidths: 0.9, 0.7, 0.5\n",
      "taus: 3.6,0.2,0.8\n",
      "Current iteration: 6 ,SOC: 0.0001415\n",
      "Bandwidths: 0.9, 0.7, 0.5\n",
      "taus: 3.6,0.2,0.8\n",
      "Current iteration: 7 ,SOC: 0.0001052\n",
      "Bandwidths: 0.9, 0.7, 0.5\n",
      "taus: 3.6,0.2,0.8\n",
      "Current iteration: 8 ,SOC: 7.99e-05\n",
      "Bandwidths: 0.9, 0.7, 0.5\n",
      "taus: 3.6,0.2,0.8\n",
      "time cost: 0:06:2.651\n"
     ]
    }
   ],
   "source": [
    "sel_multi = SearchMGTWRParameter(coords, t, X, y, kernel='gaussian', fixed=True)\n",
    "bws = sel_multi.search(multi_bw_min=[0.1], verbose=True, tol_multi=1.0e-4, time_cost=True)"
   ]
  },
  {
   "cell_type": "code",
   "execution_count": 16,
   "id": "51401611",
   "metadata": {
    "ExecuteTime": {
     "end_time": "2022-09-19T08:24:31.131209Z",
     "start_time": "2022-09-19T08:24:16.718379Z"
    }
   },
   "outputs": [
    {
     "name": "stdout",
     "output_type": "stream",
     "text": [
      "0.9972924820674222\n"
     ]
    }
   ],
   "source": [
    "mgtwr = MGTWR(coords, t, X, y, sel_multi, kernel='gaussian', fixed=True).fit()\n",
    "print(mgtwr.R2)"
   ]
  },
  {
   "cell_type": "markdown",
   "id": "541bdcce",
   "metadata": {},
   "source": [
    "If you already know bws, you can also do the following"
   ]
  },
  {
   "cell_type": "code",
   "execution_count": 17,
   "id": "bcfc1992",
   "metadata": {
    "ExecuteTime": {
     "end_time": "2022-09-19T08:25:21.934146Z",
     "start_time": "2022-09-19T08:25:08.333204Z"
    }
   },
   "outputs": [
    {
     "name": "stdout",
     "output_type": "stream",
     "text": [
      "0.9972924820674222\n"
     ]
    }
   ],
   "source": [
    "class sel_multi:\n",
    "    def __init__(self, bws):\n",
    "        self.bws = bws\n",
    "\n",
    "        \n",
    "selector = sel_multi(bws)\n",
    "mgtwr = MGTWR(coords, t, X, y, selector, kernel='gaussian', fixed=True).fit()\n",
    "print(mgtwr.R2)"
   ]
  },
  {
   "cell_type": "code",
   "execution_count": null,
   "id": "a0534878",
   "metadata": {},
   "outputs": [],
   "source": []
  }
 ],
 "metadata": {
  "kernelspec": {
   "display_name": "Python 3 (ipykernel)",
   "language": "python",
   "name": "python3"
  },
  "language_info": {
   "codemirror_mode": {
    "name": "ipython",
    "version": 3
   },
   "file_extension": ".py",
   "mimetype": "text/x-python",
   "name": "python",
   "nbconvert_exporter": "python",
   "pygments_lexer": "ipython3",
   "version": "3.9.12"
  }
 },
 "nbformat": 4,
 "nbformat_minor": 5
}
